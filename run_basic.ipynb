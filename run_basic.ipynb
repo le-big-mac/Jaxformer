{
 "cells": [
  {
   "cell_type": "code",
   "execution_count": 1,
   "metadata": {},
   "outputs": [
    {
     "name": "stderr",
     "output_type": "stream",
     "text": [
      "/opt/homebrew/Caskroom/miniforge/base/envs/jaxformer/lib/python3.11/site-packages/huggingface_hub/repocard.py:105: UserWarning: Repo card metadata block was not found. Setting CardData to empty.\n",
      "  warnings.warn(\"Repo card metadata block was not found. Setting CardData to empty.\")\n"
     ]
    }
   ],
   "source": [
    "from datasets import load_dataset\n",
    "\n",
    "dataset = load_dataset(\"roneneldan/TinyStories\", split=\"train\")"
   ]
  },
  {
   "cell_type": "code",
   "execution_count": 2,
   "metadata": {},
   "outputs": [],
   "source": [
    "from basic import tokenize, create_embeddings\n",
    "import jax\n",
    "\n",
    "rng = jax.random.PRNGKey(0)\n",
    "\n",
    "train_data = dataset[\"text\"][:200]\n",
    "train_data, word2idx, vocab_size = tokenize(train_data)\n",
    "\n",
    "max_len = 100\n",
    "\n",
    "next_word_train_data = []\n",
    "next_word_train_labels = []\n",
    "for sentence in train_data:\n",
    "    for i in range(1, min(len(sentence), max_len)):\n",
    "        next_word_train_data.append(sentence[:i] + [0] * (max_len - i))\n",
    "        next_word_train_labels.append(sentence[i])"
   ]
  },
  {
   "cell_type": "code",
   "execution_count": 3,
   "metadata": {},
   "outputs": [],
   "source": [
    "import jax.numpy as jnp\n",
    "from basic import onehot\n",
    "\n",
    "next_word_train_data = jnp.array(next_word_train_data)\n",
    "next_word_train_labels = jnp.array(next_word_train_labels)\n",
    "next_word_train_labels = onehot(next_word_train_labels, vocab_size)"
   ]
  },
  {
   "cell_type": "code",
   "execution_count": 4,
   "metadata": {},
   "outputs": [
    {
     "name": "stdout",
     "output_type": "stream",
     "text": [
      "26180649\n"
     ]
    }
   ],
   "source": [
    "from basic import create_embeddings, get_model, init_model, num_params, batch_model\n",
    "\n",
    "num_decoder_layers = 5\n",
    "num_heads = 8\n",
    "d_model = d_k = d_v = 64\n",
    "seq_len = max_len\n",
    "\n",
    "embeddings = create_embeddings(rng, vocab_size, d_model)\n",
    "model = get_model(num_decoder_layers)\n",
    "model = batch_model(model)\n",
    "param_dict = init_model(rng, num_decoder_layers, num_heads, d_model, d_k, d_v, seq_len, vocab_size)\n",
    "param_dict[\"embeddings\"] = embeddings\n",
    "\n",
    "print(num_params(param_dict))"
   ]
  },
  {
   "cell_type": "code",
   "execution_count": null,
   "metadata": {},
   "outputs": [],
   "source": [
    "import jax\n",
    "from basic import sgd_update, get_cross_entropy_loss\n",
    "\n",
    "learning_rate = 0.005\n",
    "num_epochs = 100\n",
    "batch_size = 512\n",
    "loss_fn = get_cross_entropy_loss(model)\n",
    "\n",
    "for epoch in range(num_epochs):\n",
    "    for i in range(0, len(next_word_train_data), batch_size):\n",
    "        batch_data = next_word_train_data[i:i + batch_size]\n",
    "        batch_labels = next_word_train_labels[i:i + batch_size]\n",
    "        loss, grads = jax.value_and_grad(loss_fn)(param_dict, batch_data, batch_labels)\n",
    "        param_dict = sgd_update(param_dict, grads, learning_rate)\n",
    "        print(f\"Batch {i // batch_size}: Loss {loss}\")"
   ]
  },
  {
   "cell_type": "code",
   "execution_count": null,
   "metadata": {},
   "outputs": [],
   "source": []
  }
 ],
 "metadata": {
  "kernelspec": {
   "display_name": "jaxformer",
   "language": "python",
   "name": "python3"
  },
  "language_info": {
   "codemirror_mode": {
    "name": "ipython",
    "version": 3
   },
   "file_extension": ".py",
   "mimetype": "text/x-python",
   "name": "python",
   "nbconvert_exporter": "python",
   "pygments_lexer": "ipython3",
   "version": "3.11.8"
  }
 },
 "nbformat": 4,
 "nbformat_minor": 2
}
