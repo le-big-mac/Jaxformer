{
 "cells": [
  {
   "cell_type": "code",
   "execution_count": 1,
   "metadata": {},
   "outputs": [
    {
     "name": "stderr",
     "output_type": "stream",
     "text": [
      "/opt/homebrew/Caskroom/miniforge/base/envs/jaxformer/lib/python3.11/site-packages/huggingface_hub/repocard.py:105: UserWarning: Repo card metadata block was not found. Setting CardData to empty.\n",
      "  warnings.warn(\"Repo card metadata block was not found. Setting CardData to empty.\")\n"
     ]
    }
   ],
   "source": [
    "from datasets import load_dataset\n",
    "\n",
    "dataset = load_dataset(\"roneneldan/TinyStories\", split=\"train\")"
   ]
  },
  {
   "cell_type": "code",
   "execution_count": 2,
   "metadata": {},
   "outputs": [],
   "source": [
    "from basic import tokenize, create_embeddings\n",
    "import jax\n",
    "\n",
    "rng = jax.random.PRNGKey(0)\n",
    "\n",
    "train_data = dataset[\"text\"][:200]\n",
    "train_data, word2idx, vocab_size = tokenize(train_data)\n",
    "\n",
    "max_len = 100\n",
    "\n",
    "next_word_train_data = []\n",
    "next_word_train_labels = []\n",
    "for sentence in train_data:\n",
    "    for i in range(1, min(len(sentence), max_len)):\n",
    "        next_word_train_data.append(sentence[:i] + [0] * (max_len - i))\n",
    "        next_word_train_labels.append(sentence[i])"
   ]
  },
  {
   "cell_type": "code",
   "execution_count": 3,
   "metadata": {},
   "outputs": [],
   "source": [
    "import jax.numpy as jnp\n",
    "from basic import onehot\n",
    "\n",
    "next_word_train_data = jnp.array(next_word_train_data)\n",
    "next_word_train_labels = jnp.array(next_word_train_labels)\n",
    "next_word_train_labels = onehot(next_word_train_labels, vocab_size)"
   ]
  },
  {
   "cell_type": "code",
   "execution_count": 4,
   "metadata": {},
   "outputs": [
    {
     "name": "stdout",
     "output_type": "stream",
     "text": [
      "26180649\n"
     ]
    }
   ],
   "source": [
    "from basic import create_embeddings, get_model, init_model, num_params, batch_model, positional_encoding\n",
    "\n",
    "num_decoder_layers = 5\n",
    "num_heads = 8\n",
    "d_model = d_k = d_v = 64\n",
    "seq_len = max_len\n",
    "\n",
    "embeddings = create_embeddings(rng, vocab_size, d_model)\n",
    "positional_encodings = positional_encoding(seq_len, d_model)\n",
    "model = get_model(num_decoder_layers)\n",
    "model = batch_model(model)\n",
    "param_dict = init_model(rng, num_decoder_layers, num_heads, d_model, d_k, d_v, seq_len, vocab_size)\n",
    "param_dict[\"embeddings\"] = embeddings\n",
    "\n",
    "print(num_params(param_dict))"
   ]
  },
  {
   "cell_type": "code",
   "execution_count": 6,
   "metadata": {},
   "outputs": [
    {
     "ename": "ValueError",
     "evalue": "vmap in_axes must be an int, None, or a tuple of entries corresponding to the positional arguments passed to the function, but got len(in_axes)=2, len(args)=3",
     "output_type": "error",
     "traceback": [
      "\u001b[0;31m---------------------------------------------------------------------------\u001b[0m",
      "\u001b[0;31mValueError\u001b[0m                                Traceback (most recent call last)",
      "Cell \u001b[0;32mIn[6], line 13\u001b[0m\n\u001b[1;32m     11\u001b[0m batch_data \u001b[38;5;241m=\u001b[39m next_word_train_data[i:i \u001b[38;5;241m+\u001b[39m batch_size]\n\u001b[1;32m     12\u001b[0m batch_labels \u001b[38;5;241m=\u001b[39m next_word_train_labels[i:i \u001b[38;5;241m+\u001b[39m batch_size]\n\u001b[0;32m---> 13\u001b[0m loss, grads \u001b[38;5;241m=\u001b[39m \u001b[43mjax\u001b[49m\u001b[38;5;241;43m.\u001b[39;49m\u001b[43mvalue_and_grad\u001b[49m\u001b[43m(\u001b[49m\u001b[43mloss_fn\u001b[49m\u001b[43m)\u001b[49m\u001b[43m(\u001b[49m\u001b[43mparam_dict\u001b[49m\u001b[43m,\u001b[49m\u001b[43m \u001b[49m\u001b[43mpositional_encodings\u001b[49m\u001b[43m,\u001b[49m\u001b[43m \u001b[49m\u001b[43mbatch_data\u001b[49m\u001b[43m,\u001b[49m\u001b[43m \u001b[49m\u001b[43mbatch_labels\u001b[49m\u001b[43m)\u001b[49m\n\u001b[1;32m     14\u001b[0m param_dict \u001b[38;5;241m=\u001b[39m sgd_update(param_dict, grads, learning_rate)\n\u001b[1;32m     15\u001b[0m \u001b[38;5;28mprint\u001b[39m(\u001b[38;5;124mf\u001b[39m\u001b[38;5;124m\"\u001b[39m\u001b[38;5;124mBatch \u001b[39m\u001b[38;5;132;01m{\u001b[39;00mi\u001b[38;5;250m \u001b[39m\u001b[38;5;241m/\u001b[39m\u001b[38;5;241m/\u001b[39m\u001b[38;5;250m \u001b[39mbatch_size\u001b[38;5;132;01m}\u001b[39;00m\u001b[38;5;124m: Loss \u001b[39m\u001b[38;5;132;01m{\u001b[39;00mloss\u001b[38;5;132;01m}\u001b[39;00m\u001b[38;5;124m\"\u001b[39m)\n",
      "    \u001b[0;31m[... skipping hidden 20 frame]\u001b[0m\n",
      "File \u001b[0;32m~/Documents/Oxford_DPhil/LLMs/Jaxformer/basic/training.py:6\u001b[0m, in \u001b[0;36mget_cross_entropy_loss.<locals>.cross_entropy_loss\u001b[0;34m(param_dict, positional_encoding, x, y)\u001b[0m\n\u001b[1;32m      5\u001b[0m \u001b[38;5;28;01mdef\u001b[39;00m \u001b[38;5;21mcross_entropy_loss\u001b[39m(param_dict, positional_encoding, x, y):\n\u001b[0;32m----> 6\u001b[0m     \u001b[38;5;28;01mreturn\u001b[39;00m \u001b[38;5;241m-\u001b[39mjnp\u001b[38;5;241m.\u001b[39msum(y \u001b[38;5;241m*\u001b[39m jnp\u001b[38;5;241m.\u001b[39mlog(\u001b[43mmodel\u001b[49m\u001b[43m(\u001b[49m\u001b[43mparam_dict\u001b[49m\u001b[43m,\u001b[49m\u001b[43m \u001b[49m\u001b[43mpositional_encoding\u001b[49m\u001b[43m,\u001b[49m\u001b[43m \u001b[49m\u001b[43mx\u001b[49m\u001b[43m)\u001b[49m)) \u001b[38;5;241m/\u001b[39m x\u001b[38;5;241m.\u001b[39mshape[\u001b[38;5;241m0\u001b[39m]\n",
      "    \u001b[0;31m[... skipping hidden 1 frame]\u001b[0m\n",
      "File \u001b[0;32m/opt/homebrew/Caskroom/miniforge/base/envs/jaxformer/lib/python3.11/site-packages/jax/_src/api.py:1249\u001b[0m, in \u001b[0;36mvmap.<locals>.vmap_f\u001b[0;34m(*args, **kwargs)\u001b[0m\n\u001b[1;32m   1245\u001b[0m \u001b[38;5;129m@wraps\u001b[39m(fun, docstr\u001b[38;5;241m=\u001b[39mdocstr)\n\u001b[1;32m   1246\u001b[0m \u001b[38;5;129m@api_boundary\u001b[39m\n\u001b[1;32m   1247\u001b[0m \u001b[38;5;28;01mdef\u001b[39;00m \u001b[38;5;21mvmap_f\u001b[39m(\u001b[38;5;241m*\u001b[39margs, \u001b[38;5;241m*\u001b[39m\u001b[38;5;241m*\u001b[39mkwargs):\n\u001b[1;32m   1248\u001b[0m   \u001b[38;5;28;01mif\u001b[39;00m \u001b[38;5;28misinstance\u001b[39m(in_axes, \u001b[38;5;28mtuple\u001b[39m) \u001b[38;5;129;01mand\u001b[39;00m \u001b[38;5;28mlen\u001b[39m(in_axes) \u001b[38;5;241m!=\u001b[39m \u001b[38;5;28mlen\u001b[39m(args):\n\u001b[0;32m-> 1249\u001b[0m     \u001b[38;5;28;01mraise\u001b[39;00m \u001b[38;5;167;01mValueError\u001b[39;00m(\u001b[38;5;124m\"\u001b[39m\u001b[38;5;124mvmap in_axes must be an int, None, or a tuple of entries corresponding \u001b[39m\u001b[38;5;124m\"\u001b[39m\n\u001b[1;32m   1250\u001b[0m                      \u001b[38;5;124m\"\u001b[39m\u001b[38;5;124mto the positional arguments passed to the function, \u001b[39m\u001b[38;5;124m\"\u001b[39m\n\u001b[1;32m   1251\u001b[0m                      \u001b[38;5;124mf\u001b[39m\u001b[38;5;124m\"\u001b[39m\u001b[38;5;124mbut got \u001b[39m\u001b[38;5;132;01m{\u001b[39;00m\u001b[38;5;28mlen\u001b[39m(in_axes)\u001b[38;5;132;01m=}\u001b[39;00m\u001b[38;5;124m, \u001b[39m\u001b[38;5;132;01m{\u001b[39;00m\u001b[38;5;28mlen\u001b[39m(args)\u001b[38;5;132;01m=}\u001b[39;00m\u001b[38;5;124m\"\u001b[39m)\n\u001b[1;32m   1252\u001b[0m   args_flat, in_tree  \u001b[38;5;241m=\u001b[39m tree_flatten((args, kwargs), is_leaf\u001b[38;5;241m=\u001b[39mbatching\u001b[38;5;241m.\u001b[39mis_vmappable)\n\u001b[1;32m   1253\u001b[0m   f \u001b[38;5;241m=\u001b[39m lu\u001b[38;5;241m.\u001b[39mwrap_init(fun)\n",
      "\u001b[0;31mValueError\u001b[0m: vmap in_axes must be an int, None, or a tuple of entries corresponding to the positional arguments passed to the function, but got len(in_axes)=2, len(args)=3"
     ]
    }
   ],
   "source": [
    "import jax\n",
    "from basic import sgd_update, get_cross_entropy_loss\n",
    "\n",
    "learning_rate = 0.005\n",
    "num_epochs = 100\n",
    "batch_size = 512\n",
    "loss_fn = get_cross_entropy_loss(model)\n",
    "\n",
    "for epoch in range(num_epochs):\n",
    "    for i in range(0, len(next_word_train_data), batch_size):\n",
    "        batch_data = next_word_train_data[i:i + batch_size]\n",
    "        batch_labels = next_word_train_labels[i:i + batch_size]\n",
    "        loss, grads = jax.value_and_grad(loss_fn)(param_dict, positional_encodings, batch_data, batch_labels)\n",
    "        param_dict = sgd_update(param_dict, grads, learning_rate)\n",
    "        print(f\"Batch {i // batch_size}: Loss {loss}\")"
   ]
  },
  {
   "cell_type": "code",
   "execution_count": null,
   "metadata": {},
   "outputs": [],
   "source": []
  }
 ],
 "metadata": {
  "kernelspec": {
   "display_name": "jaxformer",
   "language": "python",
   "name": "python3"
  },
  "language_info": {
   "codemirror_mode": {
    "name": "ipython",
    "version": 3
   },
   "file_extension": ".py",
   "mimetype": "text/x-python",
   "name": "python",
   "nbconvert_exporter": "python",
   "pygments_lexer": "ipython3",
   "version": "3.11.8"
  }
 },
 "nbformat": 4,
 "nbformat_minor": 2
}
